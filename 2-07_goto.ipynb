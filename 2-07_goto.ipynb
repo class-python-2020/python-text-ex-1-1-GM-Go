{
 "metadata": {
  "language_info": {
   "codemirror_mode": {
    "name": "ipython",
    "version": 3
   },
   "file_extension": ".py",
   "mimetype": "text/x-python",
   "name": "python",
   "nbconvert_exporter": "python",
   "pygments_lexer": "ipython3",
   "version": 3
  },
  "orig_nbformat": 2,
  "kernelspec": {
   "name": "python_defaultSpec_1595388674554",
   "display_name": "Python 3.8.2 32-bit"
  }
 },
 "nbformat": 4,
 "nbformat_minor": 2,
 "cells": [
  {
   "cell_type": "code",
   "execution_count": 3,
   "metadata": {},
   "outputs": [
    {
     "output_type": "execute_result",
     "data": {
      "text/plain": "[]"
     },
     "metadata": {},
     "execution_count": 3
    }
   ],
   "source": [
    "[]"
   ]
  },
  {
   "cell_type": "code",
   "execution_count": 4,
   "metadata": {},
   "outputs": [
    {
     "output_type": "execute_result",
     "data": {
      "text/plain": "[2, 4, 8, 16]"
     },
     "metadata": {},
     "execution_count": 4
    }
   ],
   "source": [
    "[2, 4, 8, 16]"
   ]
  },
  {
   "cell_type": "code",
   "execution_count": 5,
   "metadata": {},
   "outputs": [
    {
     "output_type": "execute_result",
     "data": {
      "text/plain": "[2, 4, 8, 16, 3, 6, 9, 12]"
     },
     "metadata": {},
     "execution_count": 5
    }
   ],
   "source": [
    "[2, 4, 8, 16] + [3, 6, 9, 12]"
   ]
  },
  {
   "cell_type": "code",
   "execution_count": 6,
   "metadata": {},
   "outputs": [
    {
     "output_type": "execute_result",
     "data": {
      "text/plain": "[2, 4, 8, 16, 3, 6, 9, 12]"
     },
     "metadata": {},
     "execution_count": 6
    }
   ],
   "source": [
    "my_list = [2, 4, 8, 16]\n",
    "my_list + [3, 6, 9, 12]"
   ]
  },
  {
   "cell_type": "code",
   "execution_count": 9,
   "metadata": {
    "tags": []
   },
   "outputs": [
    {
     "output_type": "stream",
     "name": "stdout",
     "text": "[2, 4, 8, 16]\n"
    }
   ],
   "source": [
    "print(my_list)"
   ]
  },
  {
   "cell_type": "code",
   "execution_count": 11,
   "metadata": {
    "tags": []
   },
   "outputs": [
    {
     "output_type": "stream",
     "name": "stdout",
     "text": "[2, 4, 8, 16, 3, 6, 9]\n"
    }
   ],
   "source": [
    "my_list = [2, 4, 8, 16]\n",
    "my_list.append(3)\n",
    "my_list.append(6)\n",
    "my_list.append(9)\n",
    "print(my_list)"
   ]
  },
  {
   "cell_type": "code",
   "execution_count": 13,
   "metadata": {
    "tags": []
   },
   "outputs": [
    {
     "output_type": "stream",
     "name": "stdout",
     "text": "[2, 4, 8, 16, 3, 6, 9, 12]\n"
    }
   ],
   "source": [
    "my_list = [2, 4, 8, 16]\n",
    "my_list.extend([3, 6, 9, 12])\n",
    "print(my_list)"
   ]
  },
  {
   "cell_type": "code",
   "execution_count": 15,
   "metadata": {
    "tags": []
   },
   "outputs": [
    {
     "output_type": "stream",
     "name": "stdout",
     "text": "[2, 3, 4, 6, 8, 9, 12, 16]\n"
    }
   ],
   "source": [
    "my_list = [2, 4, 8, 16, 3, 6, 9, 12]\n",
    "my_list.sort()\n",
    "print(my_list)"
   ]
  },
  {
   "cell_type": "code",
   "execution_count": 16,
   "metadata": {
    "tags": []
   },
   "outputs": [
    {
     "output_type": "stream",
     "name": "stdout",
     "text": "[16, 12, 9, 8, 6, 4, 3, 2]\n"
    }
   ],
   "source": [
    "my_list = [2, 4, 8, 16, 3, 6, 9, 12]\n",
    "my_list.sort(reverse = True)\n",
    "print(my_list)"
   ]
  }
 ]
}